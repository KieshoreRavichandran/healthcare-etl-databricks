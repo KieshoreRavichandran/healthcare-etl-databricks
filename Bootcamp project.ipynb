{
 "cells": [
  {
   "cell_type": "code",
   "execution_count": 0,
   "metadata": {
    "application/vnd.databricks.v1+cell": {
     "cellMetadata": {
      "byteLimit": 2048000,
      "rowLimit": 10000
     },
     "inputWidgets": {},
     "nuid": "ec848a93-df17-486d-babb-8f1daacb5811",
     "showTitle": false,
     "tableResultSettingsMap": {},
     "title": ""
    }
   },
   "outputs": [],
   "source": [
    "# 1. Load raw data from the mounted path\n",
    "df = spark.read.csv(\"/mnt/delta/patient_data.csv\", header=True, inferSchema=True)\n",
    "\n",
    "# 2. Data cleaning\n",
    "from pyspark.sql.functions import col, to_date\n",
    "\n",
    "df_clean = df.dropDuplicates([\"patient_id\"]) \\\n",
    "             .na.drop(subset=[\"patient_id\", \"dob\", \"diagnosis\"]) \\\n",
    "             .withColumn(\"dob\", to_date(col(\"dob\"))) \\\n",
    "             .withColumn(\"last_visit\", to_date(col(\"last_visit\")))\n",
    "\n",
    "# 3. Add derived features\n",
    "from pyspark.sql.functions import current_date, datediff\n",
    "\n",
    "df_final = df_clean.withColumn(\"age\", datediff(current_date(), col(\"dob\")) / 365)\n",
    "\n"
   ]
  },
  {
   "cell_type": "code",
   "execution_count": 0,
   "metadata": {
    "application/vnd.databricks.v1+cell": {
     "cellMetadata": {
      "byteLimit": 2048000,
      "rowLimit": 10000
     },
     "inputWidgets": {},
     "nuid": "6e466d53-5643-431c-b024-5eadc2685c8f",
     "showTitle": false,
     "tableResultSettingsMap": {},
     "title": ""
    }
   },
   "outputs": [
    {
     "name": "stdout",
     "output_type": "stream",
     "text": [
      "+----------+----+---+------+---------+----------+----------+---+\n",
      "|patient_id|name|dob|gender|diagnosis|last_visit|readmitted|age|\n",
      "+----------+----+---+------+---------+----------+----------+---+\n",
      "|         0|   0|  0|     0|        0|         0|         0|  0|\n",
      "+----------+----+---+------+---------+----------+----------+---+\n",
      "\n",
      "+----------+-----+\n",
      "|patient_id|count|\n",
      "+----------+-----+\n",
      "+----------+-----+\n",
      "\n"
     ]
    }
   ],
   "source": [
    "# Step 3: Validate the data\n",
    "from pyspark.sql.functions import count, when\n",
    "\n",
    "df_final.select([count(when(col(c).isNull(), c)).alias(c) for c in df_final.columns]).show()\n",
    "df_final.groupBy(\"patient_id\").count().filter(\"count > 1\").show()"
   ]
  },
  {
   "cell_type": "code",
   "execution_count": 0,
   "metadata": {
    "application/vnd.databricks.v1+cell": {
     "cellMetadata": {
      "byteLimit": 2048000,
      "rowLimit": 10000
     },
     "inputWidgets": {},
     "nuid": "c255f15d-26d5-4522-8867-50572fa2f89e",
     "showTitle": false,
     "tableResultSettingsMap": {},
     "title": ""
    }
   },
   "outputs": [
    {
     "data": {
      "application/vnd.jupyter.widget-view+json": {
       "model_id": "00c2ee9d60b24c628ae836e70805686c",
       "version_major": 2,
       "version_minor": 0
      },
      "text/plain": [
       "Uploading artifacts:   0%|          | 0/3 [00:00<?, ?it/s]"
      ]
     },
     "metadata": {},
     "output_type": "display_data"
    },
    {
     "data": {
      "application/vnd.jupyter.widget-view+json": {
       "model_id": "489484908a744d468941eaa7478f228f",
       "version_major": 2,
       "version_minor": 0
      },
      "text/plain": [
       "Uploading artifacts:   0%|          | 0/9 [00:00<?, ?it/s]"
      ]
     },
     "metadata": {},
     "output_type": "display_data"
    }
   ],
   "source": [
    "pdf = df_final.select(\"age\", \"gender\", \"readmitted\").dropna().toPandas()\n",
    "\n",
    "from sklearn.preprocessing import LabelEncoder\n",
    "from sklearn.ensemble import RandomForestClassifier\n",
    "from sklearn.model_selection import train_test_split\n",
    "\n",
    "pdf[\"gender\"] = LabelEncoder().fit_transform(pdf[\"gender\"])\n",
    "X = pdf[[\"age\", \"gender\"]]\n",
    "y = pdf[\"readmitted\"]\n",
    "\n",
    "X_train, X_test, y_train, y_test = train_test_split(X, y, test_size=0.2)\n",
    "model = RandomForestClassifier().fit(X_train, y_train)"
   ]
  },
  {
   "cell_type": "code",
   "execution_count": 0,
   "metadata": {
    "application/vnd.databricks.v1+cell": {
     "cellMetadata": {
      "byteLimit": 2048000,
      "rowLimit": 10000
     },
     "inputWidgets": {},
     "nuid": "c9c39703-24ba-42da-89b7-8c7de706522b",
     "showTitle": false,
     "tableResultSettingsMap": {},
     "title": ""
    }
   },
   "outputs": [
    {
     "name": "stderr",
     "output_type": "stream",
     "text": [
      "2025/05/16 00:30:27 WARNING mlflow.models.model: Model logged without a signature. Signatures will be required for upcoming model registry features as they validate model inputs and denote the expected schema of model outputs. Please visit https://www.mlflow.org/docs/2.15.1/models.html#set-signature-on-logged-model for instructions on setting a model signature on your logged model.\n"
     ]
    },
    {
     "data": {
      "application/vnd.jupyter.widget-view+json": {
       "model_id": "0f2fec9fc0c54109804735e46c98628f",
       "version_major": 2,
       "version_minor": 0
      },
      "text/plain": [
       "Uploading artifacts:   0%|          | 0/9 [00:00<?, ?it/s]"
      ]
     },
     "metadata": {},
     "output_type": "display_data"
    },
    {
     "name": "stderr",
     "output_type": "stream",
     "text": [
      "2025/05/16 00:30:28 WARNING mlflow.models.model: Input example should be provided to infer model signature if the model signature is not provided when logging the model.\n"
     ]
    },
    {
     "data": {
      "text/plain": [
       "<mlflow.models.model.ModelInfo at 0x750138064470>"
      ]
     },
     "execution_count": 5,
     "metadata": {},
     "output_type": "execute_result"
    }
   ],
   "source": [
    "import mlflow.sklearn\n",
    "mlflow.sklearn.log_model(model, \"rf_model\")"
   ]
  },
  {
   "cell_type": "code",
   "execution_count": 0,
   "metadata": {
    "application/vnd.databricks.v1+cell": {
     "cellMetadata": {
      "byteLimit": 2048000,
      "rowLimit": 10000
     },
     "inputWidgets": {},
     "nuid": "585adc83-abf3-4b4b-895c-94242004be51",
     "showTitle": false,
     "tableResultSettingsMap": {},
     "title": ""
    }
   },
   "outputs": [],
   "source": [
    "# On the cluster library page, install:\n",
    "# - snowflake-jdbc\n",
    "# - spark-snowflake_2.12\n"
   ]
  },
  {
   "cell_type": "code",
   "execution_count": 0,
   "metadata": {
    "application/vnd.databricks.v1+cell": {
     "cellMetadata": {
      "byteLimit": 2048000,
      "rowLimit": 10000
     },
     "inputWidgets": {},
     "nuid": "ab3b575e-2b28-4bce-9b74-5e3c5a1ff07e",
     "showTitle": false,
     "tableResultSettingsMap": {},
     "title": ""
    }
   },
   "outputs": [],
   "source": [
    "sfOptions = {\n",
    "  \"sfURL\"       : \"FFDUASY-II65737.snowflakecomputing.com\",  # Replace with your account URL\n",
    "  \"sfUser\"      : \"kieshore\",\n",
    "  \"sfPassword\"  : \"Borntowin12345\",\n",
    "  \"sfDatabase\"  : \"HEALTHCARE_DB\",\n",
    "  \"sfSchema\"    : \"PUBLIC\",\n",
    "  \"sfWarehouse\" : \"COMPUTE_WH\",\n",
    "  \"sfRole\"      : \"ACCOUNTADMIN\"  # or another role you use\n",
    "}\n"
   ]
  },
  {
   "cell_type": "code",
   "execution_count": 0,
   "metadata": {
    "application/vnd.databricks.v1+cell": {
     "cellMetadata": {
      "byteLimit": 2048000,
      "rowLimit": 10000
     },
     "inputWidgets": {},
     "nuid": "5634b456-e82b-43ba-a89b-4cbabea24bbe",
     "showTitle": false,
     "tableResultSettingsMap": {},
     "title": ""
    }
   },
   "outputs": [],
   "source": [
    "df_final.write \\\n",
    "  .format(\"snowflake\") \\\n",
    "  .options(**sfOptions) \\\n",
    "  .option(\"dbtable\", \"HEALTHCARE_DB.PUBLIC.CLEANED_PATIENTS\") \\\n",
    "  .mode(\"overwrite\") \\\n",
    "  .save()\n",
    "\n",
    "\n"
   ]
  },
  {
   "cell_type": "code",
   "execution_count": 0,
   "metadata": {
    "application/vnd.databricks.v1+cell": {
     "cellMetadata": {
      "byteLimit": 2048000,
      "rowLimit": 10000
     },
     "inputWidgets": {},
     "nuid": "5d0dd2a4-3ff5-4c1f-960a-ad37ebc35afd",
     "showTitle": false,
     "tableResultSettingsMap": {},
     "title": ""
    }
   },
   "outputs": [],
   "source": [
    "from datetime import datetime\n",
    "\n",
    "log_df = spark.createDataFrame([(\n",
    "  \"run_\" + datetime.now().strftime(\"%Y%m%d_%H%M%S\"),\n",
    "  datetime.now(),\n",
    "  df_final.count(),\n",
    "  \"SUCCESS\"\n",
    ")], [\"run_id\", \"timestamp\", \"row_count\", \"status\"])\n",
    "\n",
    "log_df.write \\\n",
    "  .format(\"snowflake\") \\\n",
    "  .options(**sfOptions) \\\n",
    "  .option(\"dbtable\", \"ETL_LOGS\") \\\n",
    "  .mode(\"append\") \\\n",
    "  .save()"
   ]
  }
 ],
 "metadata": {
  "application/vnd.databricks.v1+notebook": {
   "computePreferences": null,
   "dashboards": [],
   "environmentMetadata": {
    "base_environment": "",
    "environment_version": "2"
   },
   "inputWidgetPreferences": null,
   "language": "python",
   "notebookMetadata": {
    "pythonIndentUnit": 4
   },
   "notebookName": "Bootcamp project",
   "widgets": {}
  },
  "language_info": {
   "name": "python"
  }
 },
 "nbformat": 4,
 "nbformat_minor": 0
}
